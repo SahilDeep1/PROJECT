{
 "cells": [
  {
   "cell_type": "markdown",
   "metadata": {
    "_cell_guid": "71adc4e0-9dd7-4412-a6d3-c372f0b55bdf",
    "_uuid": "8fd73ad4a88ba572be3223e70a4fd4740d446210"
   },
   "source": [
    "## Import the required modules"
   ]
  },
  {
   "cell_type": "code",
   "execution_count": 7,
   "metadata": {
    "_cell_guid": "53c25d5e-43e7-4caa-a1f3-d7e722eec523",
    "_uuid": "f5da062138086cc049b656c8754a3582eae9e89b"
   },
   "outputs": [],
   "source": [
    "from timeit import default_timer\n",
    "start = default_timer()\n",
    "\n",
    "import pandas as pd\n",
    "import numpy as np\n",
    "import matplotlib.pyplot as plt\n",
    "plt.style.use('ggplot')"
   ]
  },
  {
   "cell_type": "markdown",
   "metadata": {
    "_cell_guid": "22fd9c56-3cc6-4eca-8750-aea8f820ba29",
    "_uuid": "7b7c05c2d9b1727586ad737b89ec360435cf7da5"
   },
   "source": [
    "## Load required files\n",
    "For first time data load:\n",
    "1. Load original CSV files.\n",
    "2. Sort by movieId (main key we'll be using) and reset the indices.\n",
    "3. Split title and year into separate columns. Convert year to datetime.\n",
    "4. Categorize genres properly: split strings into boolean columns per genre.\n",
    "5. Modify the rating timestamp: from universal seconds to datetime year.\n",
    "6. Check for NaN values. Clean (delete rows) if % of NaN values is small."
   ]
  },
  {
   "cell_type": "code",
   "execution_count": 8,
   "metadata": {
    "_cell_guid": "bcfc0818-9b6e-47e7-b389-995dbdda59eb",
    "_uuid": "cb12fca690b4ae295f31475b1eae169e552d4f30"
   },
   "outputs": [
    {
     "ename": "FileNotFoundError",
     "evalue": "[Errno 2] No such file or directory: '../ml-1m/ratings.dat'",
     "output_type": "error",
     "traceback": [
      "\u001b[0;31m---------------------------------------------------------------------------\u001b[0m",
      "\u001b[0;31mFileNotFoundError\u001b[0m                         Traceback (most recent call last)",
      "\u001b[0;32m<ipython-input-8-29d794e141ed>\u001b[0m in \u001b[0;36m<module>\u001b[0;34m\u001b[0m\n\u001b[1;32m      8\u001b[0m \u001b[0mmovies\u001b[0m \u001b[0;34m=\u001b[0m \u001b[0mpd\u001b[0m\u001b[0;34m.\u001b[0m\u001b[0mread_csv\u001b[0m\u001b[0;34m(\u001b[0m\u001b[0;34m'../data/ml-1m/movies.dat'\u001b[0m\u001b[0;34m,\u001b[0m \u001b[0msep\u001b[0m\u001b[0;34m=\u001b[0m\u001b[0;34m'::'\u001b[0m\u001b[0;34m,\u001b[0m \u001b[0mnames\u001b[0m \u001b[0;34m=\u001b[0m \u001b[0;34m[\u001b[0m\u001b[0;34m'movieId'\u001b[0m\u001b[0;34m,\u001b[0m\u001b[0;34m'title'\u001b[0m\u001b[0;34m,\u001b[0m\u001b[0;34m'genres'\u001b[0m\u001b[0;34m]\u001b[0m\u001b[0;34m,\u001b[0m \u001b[0mengine\u001b[0m\u001b[0;34m=\u001b[0m\u001b[0;34m'python'\u001b[0m\u001b[0;34m)\u001b[0m\u001b[0;34m\u001b[0m\u001b[0m\n\u001b[1;32m      9\u001b[0m \u001b[0;31m#ratings = pd.read_csv('/home/kartik/data/ml-1m/ratings.dat', sep=',', names = ['userId','movieId','rating','timestamp'], engine='python', skiprows=1)\u001b[0m\u001b[0;34m\u001b[0m\u001b[0;34m\u001b[0m\u001b[0m\n\u001b[0;32m---> 10\u001b[0;31m \u001b[0mratings\u001b[0m \u001b[0;34m=\u001b[0m \u001b[0mpd\u001b[0m\u001b[0;34m.\u001b[0m\u001b[0mread_csv\u001b[0m\u001b[0;34m(\u001b[0m\u001b[0;34m'../ml-1m/ratings.dat'\u001b[0m\u001b[0;34m,\u001b[0m \u001b[0msep\u001b[0m\u001b[0;34m=\u001b[0m\u001b[0;34m'::'\u001b[0m\u001b[0;34m,\u001b[0m \u001b[0mnames\u001b[0m \u001b[0;34m=\u001b[0m \u001b[0;34m[\u001b[0m\u001b[0;34m'userId'\u001b[0m\u001b[0;34m,\u001b[0m\u001b[0;34m'movieId'\u001b[0m\u001b[0;34m,\u001b[0m\u001b[0;34m'rating'\u001b[0m\u001b[0;34m,\u001b[0m\u001b[0;34m'timestamp'\u001b[0m\u001b[0;34m]\u001b[0m\u001b[0;34m,\u001b[0m \u001b[0mengine\u001b[0m\u001b[0;34m=\u001b[0m\u001b[0;34m'python'\u001b[0m\u001b[0;34m)\u001b[0m\u001b[0;34m\u001b[0m\u001b[0m\n\u001b[0m\u001b[1;32m     11\u001b[0m \u001b[0;34m\u001b[0m\u001b[0m\n\u001b[1;32m     12\u001b[0m \u001b[0;31m# Organise a bit and store into feather-format\u001b[0m\u001b[0;34m\u001b[0m\u001b[0;34m\u001b[0m\u001b[0m\n",
      "\u001b[0;32m~/anaconda3/lib/python3.6/site-packages/pandas/io/parsers.py\u001b[0m in \u001b[0;36mparser_f\u001b[0;34m(filepath_or_buffer, sep, delimiter, header, names, index_col, usecols, squeeze, prefix, mangle_dupe_cols, dtype, engine, converters, true_values, false_values, skipinitialspace, skiprows, nrows, na_values, keep_default_na, na_filter, verbose, skip_blank_lines, parse_dates, infer_datetime_format, keep_date_col, date_parser, dayfirst, iterator, chunksize, compression, thousands, decimal, lineterminator, quotechar, quoting, escapechar, comment, encoding, dialect, tupleize_cols, error_bad_lines, warn_bad_lines, skipfooter, doublequote, delim_whitespace, low_memory, memory_map, float_precision)\u001b[0m\n\u001b[1;32m    676\u001b[0m                     skip_blank_lines=skip_blank_lines)\n\u001b[1;32m    677\u001b[0m \u001b[0;34m\u001b[0m\u001b[0m\n\u001b[0;32m--> 678\u001b[0;31m         \u001b[0;32mreturn\u001b[0m \u001b[0m_read\u001b[0m\u001b[0;34m(\u001b[0m\u001b[0mfilepath_or_buffer\u001b[0m\u001b[0;34m,\u001b[0m \u001b[0mkwds\u001b[0m\u001b[0;34m)\u001b[0m\u001b[0;34m\u001b[0m\u001b[0m\n\u001b[0m\u001b[1;32m    679\u001b[0m \u001b[0;34m\u001b[0m\u001b[0m\n\u001b[1;32m    680\u001b[0m     \u001b[0mparser_f\u001b[0m\u001b[0;34m.\u001b[0m\u001b[0m__name__\u001b[0m \u001b[0;34m=\u001b[0m \u001b[0mname\u001b[0m\u001b[0;34m\u001b[0m\u001b[0m\n",
      "\u001b[0;32m~/anaconda3/lib/python3.6/site-packages/pandas/io/parsers.py\u001b[0m in \u001b[0;36m_read\u001b[0;34m(filepath_or_buffer, kwds)\u001b[0m\n\u001b[1;32m    438\u001b[0m \u001b[0;34m\u001b[0m\u001b[0m\n\u001b[1;32m    439\u001b[0m     \u001b[0;31m# Create the parser.\u001b[0m\u001b[0;34m\u001b[0m\u001b[0;34m\u001b[0m\u001b[0m\n\u001b[0;32m--> 440\u001b[0;31m     \u001b[0mparser\u001b[0m \u001b[0;34m=\u001b[0m \u001b[0mTextFileReader\u001b[0m\u001b[0;34m(\u001b[0m\u001b[0mfilepath_or_buffer\u001b[0m\u001b[0;34m,\u001b[0m \u001b[0;34m**\u001b[0m\u001b[0mkwds\u001b[0m\u001b[0;34m)\u001b[0m\u001b[0;34m\u001b[0m\u001b[0m\n\u001b[0m\u001b[1;32m    441\u001b[0m \u001b[0;34m\u001b[0m\u001b[0m\n\u001b[1;32m    442\u001b[0m     \u001b[0;32mif\u001b[0m \u001b[0mchunksize\u001b[0m \u001b[0;32mor\u001b[0m \u001b[0miterator\u001b[0m\u001b[0;34m:\u001b[0m\u001b[0;34m\u001b[0m\u001b[0m\n",
      "\u001b[0;32m~/anaconda3/lib/python3.6/site-packages/pandas/io/parsers.py\u001b[0m in \u001b[0;36m__init__\u001b[0;34m(self, f, engine, **kwds)\u001b[0m\n\u001b[1;32m    785\u001b[0m             \u001b[0mself\u001b[0m\u001b[0;34m.\u001b[0m\u001b[0moptions\u001b[0m\u001b[0;34m[\u001b[0m\u001b[0;34m'has_index_names'\u001b[0m\u001b[0;34m]\u001b[0m \u001b[0;34m=\u001b[0m \u001b[0mkwds\u001b[0m\u001b[0;34m[\u001b[0m\u001b[0;34m'has_index_names'\u001b[0m\u001b[0;34m]\u001b[0m\u001b[0;34m\u001b[0m\u001b[0m\n\u001b[1;32m    786\u001b[0m \u001b[0;34m\u001b[0m\u001b[0m\n\u001b[0;32m--> 787\u001b[0;31m         \u001b[0mself\u001b[0m\u001b[0;34m.\u001b[0m\u001b[0m_make_engine\u001b[0m\u001b[0;34m(\u001b[0m\u001b[0mself\u001b[0m\u001b[0;34m.\u001b[0m\u001b[0mengine\u001b[0m\u001b[0;34m)\u001b[0m\u001b[0;34m\u001b[0m\u001b[0m\n\u001b[0m\u001b[1;32m    788\u001b[0m \u001b[0;34m\u001b[0m\u001b[0m\n\u001b[1;32m    789\u001b[0m     \u001b[0;32mdef\u001b[0m \u001b[0mclose\u001b[0m\u001b[0;34m(\u001b[0m\u001b[0mself\u001b[0m\u001b[0;34m)\u001b[0m\u001b[0;34m:\u001b[0m\u001b[0;34m\u001b[0m\u001b[0m\n",
      "\u001b[0;32m~/anaconda3/lib/python3.6/site-packages/pandas/io/parsers.py\u001b[0m in \u001b[0;36m_make_engine\u001b[0;34m(self, engine)\u001b[0m\n\u001b[1;32m   1022\u001b[0m                                  ' \"c\", \"python\", or' ' \"python-fwf\")'.format(\n\u001b[1;32m   1023\u001b[0m                                      engine=engine))\n\u001b[0;32m-> 1024\u001b[0;31m             \u001b[0mself\u001b[0m\u001b[0;34m.\u001b[0m\u001b[0m_engine\u001b[0m \u001b[0;34m=\u001b[0m \u001b[0mklass\u001b[0m\u001b[0;34m(\u001b[0m\u001b[0mself\u001b[0m\u001b[0;34m.\u001b[0m\u001b[0mf\u001b[0m\u001b[0;34m,\u001b[0m \u001b[0;34m**\u001b[0m\u001b[0mself\u001b[0m\u001b[0;34m.\u001b[0m\u001b[0moptions\u001b[0m\u001b[0;34m)\u001b[0m\u001b[0;34m\u001b[0m\u001b[0m\n\u001b[0m\u001b[1;32m   1025\u001b[0m \u001b[0;34m\u001b[0m\u001b[0m\n\u001b[1;32m   1026\u001b[0m     \u001b[0;32mdef\u001b[0m \u001b[0m_failover_to_python\u001b[0m\u001b[0;34m(\u001b[0m\u001b[0mself\u001b[0m\u001b[0;34m)\u001b[0m\u001b[0;34m:\u001b[0m\u001b[0;34m\u001b[0m\u001b[0m\n",
      "\u001b[0;32m~/anaconda3/lib/python3.6/site-packages/pandas/io/parsers.py\u001b[0m in \u001b[0;36m__init__\u001b[0;34m(self, f, **kwds)\u001b[0m\n\u001b[1;32m   2075\u001b[0m         f, handles = _get_handle(f, mode, encoding=self.encoding,\n\u001b[1;32m   2076\u001b[0m                                  \u001b[0mcompression\u001b[0m\u001b[0;34m=\u001b[0m\u001b[0mself\u001b[0m\u001b[0;34m.\u001b[0m\u001b[0mcompression\u001b[0m\u001b[0;34m,\u001b[0m\u001b[0;34m\u001b[0m\u001b[0m\n\u001b[0;32m-> 2077\u001b[0;31m                                  memory_map=self.memory_map)\n\u001b[0m\u001b[1;32m   2078\u001b[0m         \u001b[0mself\u001b[0m\u001b[0;34m.\u001b[0m\u001b[0mhandles\u001b[0m\u001b[0;34m.\u001b[0m\u001b[0mextend\u001b[0m\u001b[0;34m(\u001b[0m\u001b[0mhandles\u001b[0m\u001b[0;34m)\u001b[0m\u001b[0;34m\u001b[0m\u001b[0m\n\u001b[1;32m   2079\u001b[0m \u001b[0;34m\u001b[0m\u001b[0m\n",
      "\u001b[0;32m~/anaconda3/lib/python3.6/site-packages/pandas/io/common.py\u001b[0m in \u001b[0;36m_get_handle\u001b[0;34m(path_or_buf, mode, encoding, compression, memory_map, is_text)\u001b[0m\n\u001b[1;32m    401\u001b[0m         \u001b[0;32melif\u001b[0m \u001b[0mis_text\u001b[0m\u001b[0;34m:\u001b[0m\u001b[0;34m\u001b[0m\u001b[0m\n\u001b[1;32m    402\u001b[0m             \u001b[0;31m# Python 3 and no explicit encoding\u001b[0m\u001b[0;34m\u001b[0m\u001b[0;34m\u001b[0m\u001b[0m\n\u001b[0;32m--> 403\u001b[0;31m             \u001b[0mf\u001b[0m \u001b[0;34m=\u001b[0m \u001b[0mopen\u001b[0m\u001b[0;34m(\u001b[0m\u001b[0mpath_or_buf\u001b[0m\u001b[0;34m,\u001b[0m \u001b[0mmode\u001b[0m\u001b[0;34m,\u001b[0m \u001b[0merrors\u001b[0m\u001b[0;34m=\u001b[0m\u001b[0;34m'replace'\u001b[0m\u001b[0;34m)\u001b[0m\u001b[0;34m\u001b[0m\u001b[0m\n\u001b[0m\u001b[1;32m    404\u001b[0m         \u001b[0;32melse\u001b[0m\u001b[0;34m:\u001b[0m\u001b[0;34m\u001b[0m\u001b[0m\n\u001b[1;32m    405\u001b[0m             \u001b[0;31m# Python 3 and binary mode\u001b[0m\u001b[0;34m\u001b[0m\u001b[0;34m\u001b[0m\u001b[0m\n",
      "\u001b[0;31mFileNotFoundError\u001b[0m: [Errno 2] No such file or directory: '../ml-1m/ratings.dat'"
     ]
    }
   ],
   "source": [
    "def get_months(d, base_year=2000):\n",
    "    return (d.year - base_year)*12 + d.month\n",
    "            \n",
    "st = default_timer()\n",
    "\n",
    "# First time data load.\n",
    "#movies = pd.read_csv('../data/ml-20m/movies.csv', sep=',', names = ['movieId','title','genres'], engine='python', skiprows=1)\n",
    "movies = pd.read_csv('../data/ml-1m/movies.dat', sep='::', names = ['movieId','title','genres'], engine='python')\n",
    "#ratings = pd.read_csv('../data/ml-20m/ratings.csv', sep=',', names = ['userId','movieId','rating','timestamp'], engine='python', skiprows=1)\n",
    "ratings = pd.read_csv('../data/ml-1m/ratings.dat', sep='::', names = ['userId','movieId','rating','timestamp'], engine='python')\n",
    "    \n",
    "# Organise a bit and store into feather-format\n",
    "movies.sort_values(by='movieId', inplace=True)\n",
    "movies.reset_index(inplace=True, drop=True)\n",
    "ratings.sort_values(by='movieId', inplace=True)\n",
    "ratings.reset_index(inplace=True, drop=True)\n",
    "\n",
    "print(ratings.dtypes)\n",
    "\n",
    "# Split title and release year in separate columns in movies dataframe. Convert year to timestamp.\n",
    "movies['year'] = movies.title.str.extract(\"\\((\\d{4})\\)\", expand=True)\n",
    "movies.year = pd.to_datetime(movies.year, format='%Y')\n",
    "movies.year = movies.year.dt.year # As there are some NaN years, resulting type will be float (decimals)\n",
    "movies.title = movies.title.str[:-7]\n",
    "\n",
    "# Categorize movies genres properly.\n",
    "genres_unique = pd.DataFrame(movies.genres.str.split('|').tolist()).stack().unique()\n",
    "genres_unique = pd.DataFrame(genres_unique, columns=['genre']) # Format into DataFrame to store later\n",
    "movies = movies.join(movies.genres.str.get_dummies().astype(bool))\n",
    "movies.drop('genres', inplace=True, axis=1)\n",
    "\n",
    "# Modify rating timestamp format (from seconds to datetime year)\n",
    "#ratings.timestamp = pd.to_datetime(ratings.timestamp, unit='s')\n",
    "#ratings.timestamp = pd.to_datetime(ratings.timestamp, infer_datetime_format=True)\n",
    "#ratings.timestamp = pd.to_datetime(ratings.timestamp, unit='s')\n",
    "print(ratings.dtypes)\n",
    "ratings['timestamp'] = pd.to_datetime(ratings.timestamp, unit='s')\n",
    "ratings['timestamp'] = ratings['timestamp'].map(get_months)\n",
    "#ratings.timestamp = str(ratings.timestamp.dt.year)  + '-' + str(ratings.timestamp.dt.month)\n",
    "\n",
    "# Check and clean NaN values\n",
    "print (\"Number of movies Null values: \", max(movies.isnull().sum()))\n",
    "print (\"Number of ratings Null values: \", max(ratings.isnull().sum()))\n",
    "movies.dropna(inplace=True)\n",
    "ratings.dropna(inplace=True)\n",
    "    \n",
    "# Organise a bit, then save into feather-formatand clear from memory\n",
    "movies.sort_values(by='movieId', inplace=True)\n",
    "ratings.sort_values(by='movieId', inplace=True)\n",
    "movies.reset_index(inplace=True, drop=True)\n",
    "ratings.reset_index(inplace=True, drop=True)\n",
    "\n",
    "print(movies.head())\n",
    "print(ratings.head())\n",
    "print('Month of first rating = ', np.min(ratings.timestamp))\n",
    "print('Month of last rating = ', np.max(ratings.timestamp))\n",
    "    \n",
    "runtime = default_timer() - st\n",
    "print (\"Elapsed time(sec): \", round(runtime,2))"
   ]
  },
  {
   "cell_type": "markdown",
   "metadata": {
    "_cell_guid": "09262ae6-968d-4812-bc9d-2f458b691a58",
    "_uuid": "3153ed65fc087252f65c421d8ec99a558227484d"
   },
   "source": [
    "<font color=darkblue>**PLOT#1**: Average rating for all individual movies. <br>"
   ]
  },
  {
   "cell_type": "code",
   "execution_count": null,
   "metadata": {
    "_cell_guid": "b434d818-6196-4820-a54c-0f32ddc52534",
    "_uuid": "05388f77f604bff14fe0f005f3e123ea52bd1de8"
   },
   "outputs": [],
   "source": [
    "st = default_timer()\n",
    "\n",
    "dftmp = movies[['movieId', 'year']].set_index('movieId').join(\n",
    "    ratings[['movieId','rating']].groupby('movieId').mean())\n",
    "\n",
    "plt.figure(figsize=(10,5))\n",
    "plt.plot(dftmp.year, dftmp.rating,\"g.\", markersize=4)\n",
    "plt.xlabel('Movie Release Year')\n",
    "plt.ylabel('Average rating for the Movie')\n",
    "plt.title('All movies rating')\n",
    "plt.ylim(0,)\n",
    "plt.show()\n",
    "\n",
    "# Housekeeping\n",
    "%reset_selective -f (^dftmp$)\n",
    "\n",
    "runtime = default_timer() - st\n",
    "print (\"Elapsed time(sec): \", round(runtime,2))"
   ]
  },
  {
   "cell_type": "markdown",
   "metadata": {
    "_cell_guid": "4c14d7ca-2b63-42b2-9ca2-0d60bf351d07",
    "_uuid": "4bf80cacc9664fed0889ba7f417fcf0fab36ef12"
   },
   "source": [
    "<font color=darkblue>**PLOT#2**: Average rating for all movies in each year. <br>\n",
    "<font color=green>**INSIGHT#2**: Slight decline in average movie ratings after 1960, but still remains above 3. Range quite narrow.</font>"
   ]
  },
  {
   "cell_type": "code",
   "execution_count": null,
   "metadata": {
    "_cell_guid": "0fcb0e19-7d1d-4c79-86d9-9eded8f64013",
    "_uuid": "8d5d0cf974c51720b02b835bdb4456f8ae36e0af"
   },
   "outputs": [],
   "source": [
    "st = default_timer()\n",
    "\n",
    "plt.figure(figsize=(10,5))\n",
    "# For each genre\n",
    "for genre in ['Animation', 'Horror', 'Drama', 'Adventure', 'Romance', 'Crime', 'Thriller']:\n",
    "    # Select only movies matching current genre. Pick only movieId (as index) and year.\n",
    "    dftmp = movies[movies[genre]==True][['movieId', 'year']].set_index('movieId')\n",
    "    # Selects ratings, with movieId as index. Select only movies that match also the previous step. Join both.\n",
    "    dftmp = dftmp.join(ratings[ratings.set_index('movieId').index.isin(dftmp.index)][['movieId', 'rating']]\n",
    "                       .groupby('movieId').mean())\n",
    "    # Now we have a df of movieId, year and multiple ratings. Group by year and compute the average rating.\n",
    "    dftmp = dftmp.groupby('year').mean()\n",
    "    plt.plot(dftmp, label = genre, alpha=0.7)\n",
    "\n",
    "# For all genres\n",
    "dftmp = movies[['movieId', 'year']].set_index('movieId')\n",
    "dftmp = dftmp.join(ratings[ratings.set_index('movieId').index.isin(dftmp.index)][['movieId', 'rating']]\n",
    "                   .groupby('movieId').mean())\n",
    "dftmp = dftmp.groupby('year').mean()\n",
    "plt.plot(dftmp, \"o\", label='All genres', color='black')\n",
    "\n",
    "plt.xlabel('Year')\n",
    "plt.ylabel('Rating')\n",
    "plt.title('Average rating of all movies realeased that year')\n",
    "plt.legend(loc=(1.05,0), ncol=2)\n",
    "plt.ylim(0,)\n",
    "plt.show()\n",
    "\n",
    "# Housekeeping\n",
    "%reset_selective -f (^dftmp$|^genre$)\n",
    "\n",
    "runtime = default_timer() - st\n",
    "print (\"Elapsed time(sec): \", round(runtime,2))"
   ]
  },
  {
   "cell_type": "markdown",
   "metadata": {
    "_cell_guid": "340893e3-4f49-4440-8249-d85296eb4e7e",
    "_uuid": "d0522b0864f3f8da14388255145e17284f909239"
   },
   "source": [
    "<font color=darkblue>**PLOT#3**: Ratings per user.<br>\n"
   ]
  },
  {
   "cell_type": "code",
   "execution_count": null,
   "metadata": {
    "_cell_guid": "6fd62fc3-6ce0-4e2d-8306-8478be2de07e",
    "_uuid": "bd8fd889936e615b2463b539dd783d37801e1b85"
   },
   "outputs": [],
   "source": [
    "st = default_timer()\n",
    "\n",
    "# Scatter plot of all users and individual ratings count.\n",
    "dftmp = ratings[['userId', 'movieId']].groupby('userId').count()\n",
    "dftmp.columns=['num_ratings']\n",
    "plt.figure(figsize=(15,5))\n",
    "plt.scatter(dftmp.index, dftmp.num_ratings, edgecolor='black')\n",
    "plt.xlim(0,len(dftmp.index))\n",
    "plt.ylim(0,)\n",
    "plt.title('Ratings per user')\n",
    "plt.xlabel('userId')\n",
    "plt.ylabel('Number of ratings given')\n",
    "plt.show()\n",
    "\n",
    "# Histogram of ratings counts.\n",
    "plt.figure(figsize=(10,5))\n",
    "plt.hist(dftmp.num_ratings, bins=100, edgecolor='black', log=True)\n",
    "plt.title('Ratings per user')\n",
    "plt.xlabel('Number of ratings given')\n",
    "plt.ylabel('Number of users')\n",
    "plt.xlim(0,)\n",
    "plt.xticks(np.arange(0,10000,500))\n",
    "plt.show()\n",
    "\n",
    "# Housekeeping\n",
    "%reset_selective -f (^dftmp$)\n",
    "\n",
    "runtime = default_timer() - st\n",
    "print (\"Elapsed time(sec): \", round(runtime,2))"
   ]
  },
  {
   "cell_type": "markdown",
   "metadata": {
    "_cell_guid": "2210ae8b-8b2b-47e4-a1a4-f7f82aa818d7",
    "_uuid": "2f742db37febf907c34478039506fc2845cb1425"
   },
   "source": [
    "<font color=darkblue>**PLOT#4**: Ratings per movie.<br>"
   ]
  },
  {
   "cell_type": "code",
   "execution_count": null,
   "metadata": {
    "_cell_guid": "9fa2637f-d63c-4724-9d17-a3af99b14211",
    "_uuid": "ecb2ea0e9028d070695f58884646cfcd1731dca9"
   },
   "outputs": [],
   "source": [
    "st = default_timer()\n",
    "\n",
    "# Scatter plot of all users and individual ratings count.\n",
    "dftmp = ratings[['userId', 'movieId']].groupby('movieId').count()\n",
    "dftmp.columns=['num_ratings']\n",
    "plt.figure(figsize=(15,5))\n",
    "plt.scatter(dftmp.index, dftmp.num_ratings, edgecolor='black')\n",
    "plt.xlim(0,dftmp.index.max())\n",
    "plt.ylim(0,)\n",
    "plt.title('Ratings per movie')\n",
    "plt.xlabel('movieId')\n",
    "plt.ylabel('Number of ratings received')\n",
    "plt.show()\n",
    "\n",
    "# Histogram of ratings counts.\n",
    "plt.figure(figsize=(15,5))\n",
    "plt.hist(dftmp.num_ratings, bins=100, edgecolor='black', log=True)\n",
    "plt.title('Ratings per movie')\n",
    "plt.xlabel('Number of ratings received')\n",
    "plt.ylabel('Number of movies')\n",
    "plt.xlim(0,)\n",
    "plt.show()\n",
    "\n",
    "\n",
    "\n",
    "# Housekeeping\n",
    "%reset_selective -f (^dftmp$|^tmp$|^best$)\n",
    "\n",
    "runtime = default_timer() - st\n",
    "print (\"Elapsed time(sec): \", round(runtime,2))"
   ]
  },
  {
   "cell_type": "code",
   "execution_count": null,
   "metadata": {},
   "outputs": [],
   "source": [
    "# Now lets try to plot the average rating given by a user per month\n",
    "#random_user_id = 76\n",
    "#idx = (ratings['userId'] == random_user_id)\n",
    "#dftmp = rating\n",
    "#fig, ax = plt.subplots(figsize=(15,7))s[idx]\n",
    "#print(dftmp)\n",
    "grouped = ratings[['rating', 'timestamp']].groupby('timestamp')\n",
    "#grouped['timestamp']\n",
    "#s1 = grouped['rating'].mean()\n",
    "#print(s1)\n",
    "plt.plot(s1)\n",
    "plt.show()\n",
    "#print('eherekjr')\n",
    "#print(grouped.groups)\n",
    "#for name,group in grouped:\n",
    "#    print(name)\n",
    "#    print(group)\n",
    "#print('Printing the timestamp column')\n",
    "#print(dftmp.timestamp)\n",
    "#plt.figure(figsize=(10,5))\n",
    "#plt.plot(dftmp['timestamp'], dftmp['rating'],\"g.\", markersize=4)\n",
    "#plt.xlabel('Year-Month-Day')\n",
    "#plt.ylabel('Average rating')\n",
    "#plt.title('Ratings Trend')\n",
    "#plt.ylim(0,)\n",
    "#plt.show()"
   ]
  },
  {
   "cell_type": "code",
   "execution_count": null,
   "metadata": {},
   "outputs": [],
   "source": []
  }
 ],
 "metadata": {
  "kernelspec": {
   "display_name": "Python 3",
   "language": "python",
   "name": "python3"
  },
  "language_info": {
   "codemirror_mode": {
    "name": "ipython",
    "version": 3
   },
   "file_extension": ".py",
   "mimetype": "text/x-python",
   "name": "python",
   "nbconvert_exporter": "python",
   "pygments_lexer": "ipython3",
   "version": "3.6.6"
  }
 },
 "nbformat": 4,
 "nbformat_minor": 1
}
